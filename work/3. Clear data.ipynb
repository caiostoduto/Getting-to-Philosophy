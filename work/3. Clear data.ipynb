{
 "cells": [
  {
   "cell_type": "code",
   "execution_count": 1,
   "id": "969d34d4-9d21-4d51-b205-ada6568ef70c",
   "metadata": {},
   "outputs": [],
   "source": [
    "# Standard and third-party library imports\n",
    "import pandas as pd\n",
    "from os.path import join\n",
    "from tqdm import tqdm\n",
    "from sys import stdout\n",
    "\n",
    "from typing import List  # For type hinting in functions that return lists\n",
    "\n",
    "# Define the namespaces to be excluded\n",
    "EXCLUDED_PREFIXES = [\n",
    "    \"Wikipédia:\",\n",
    "    \"Categoria:\",\n",
    "    \"Predefinição:\",\n",
    "    \"Ficheiro:\",\n",
    "    \"Portal:\",\n",
    "    \"Módulo:\",\n",
    "    \"Tópico:\",\n",
    "    \"Ajuda:\",\n",
    "    \"MediaWiki:\",\n",
    "    \"Livro:\",\n",
    "    \"TimedText:\",\n",
    "]\n",
    "\n",
    "\n",
    "def filter_redirects(redirect_array: List[str], page_title_lower: set):\n",
    "    result = []\n",
    "    for redirect in redirect_array:\n",
    "        redirect_ref = redirect.split(\"|\")[0].split(\"#\")[0].strip()\n",
    "\n",
    "        # Check if the redirect does not start with any excluded prefix\n",
    "        if not any(redirect_ref.startswith(prefix) for prefix in EXCLUDED_PREFIXES):\n",
    "            if redirect_ref.lower() in page_title_lower:\n",
    "                result.append(redirect_ref)\n",
    "\n",
    "    return result\n",
    "\n",
    "\n",
    "def process_page(wikinamedate: str) -> None:\n",
    "    print(f\"[INFO] Reading '{wikinamedate.replace('/', '-')}/raw.parquet'\")\n",
    "    df = pd.read_parquet(\n",
    "        join(\"../output/\", wikinamedate.replace(\"/\", \"-\"), \"raw.parquet\")\n",
    "    )\n",
    "\n",
    "    print(\"[INFO] Filtering namespace\")\n",
    "    df = df[df[\"Page Namespace\"] == \"0\"]\n",
    "\n",
    "    tqdm.pandas(\n",
    "        desc=\"[INFO] Filtering redirects\", unit_scale=True, unit=\" pages\", file=stdout\n",
    "    )\n",
    "    page_title_lower = set(df[\"Page Title\"].str.lower().values)\n",
    "    df[\"Page References\"] = df[\"Page References\"].progress_apply(\n",
    "        lambda redirect_array: filter_redirects(redirect_array, page_title_lower)\n",
    "    )\n",
    "\n",
    "    df.to_parquet(\n",
    "        join(\"../output/\", wikinamedate.replace(\"/\", \"-\"), \"processed.parquet\")\n",
    "    )\n",
    "\n",
    "    print(\n",
    "        f\"[INFO] {df['Page References'].apply(lambda x: len(x) > 0).sum()} out of {df['Page Title'].count()} ({round(100 * (df['Page References'].apply(lambda x: len(x) > 0).sum()/df['Page Title'].count()), 2)}%) pages have at least one Page Reference\"\n",
    "    )\n",
    "\n",
    "    del page_title_lower, df\n",
    "\n",
    "    print()\n"
   ]
  },
  {
   "cell_type": "code",
   "execution_count": 2,
   "id": "cca756e9-7e6f-4575-b42c-773b5ca35412",
   "metadata": {},
   "outputs": [
    {
     "name": "stdout",
     "output_type": "stream",
     "text": [
      "[INFO] Reading 'ptwiki-20240720/raw.parquet'\n",
      "[INFO] Filtering namespace\n",
      "[INFO] Filtering redirects: 100%|██████████| 1.91M/1.91M [04:52<00:00, 6.53k pages/s]\n",
      "[INFO] 1135416 out of 1909778 (59.45%) pages have at least one Page Reference\n",
      "CPU times: user 5min 53s, sys: 8.89 s, total: 6min 2s\n",
      "Wall time: 5min 46s\n"
     ]
    }
   ],
   "source": [
    "%%time\n",
    "# Restore variable from different Jupyter notebook\n",
    "%store -r wikinamedate\n",
    "\n",
    "process_page(wikinamedate)\n"
   ]
  }
 ],
 "metadata": {
  "kernelspec": {
   "display_name": "Python 3 (ipykernel)",
   "language": "python",
   "name": "python3"
  },
  "language_info": {
   "codemirror_mode": {
    "name": "ipython",
    "version": 3
   },
   "file_extension": ".py",
   "mimetype": "text/x-python",
   "name": "python",
   "nbconvert_exporter": "python",
   "pygments_lexer": "ipython3",
   "version": "3.11.6"
  },
  "widgets": {
   "application/vnd.jupyter.widget-state+json": {
    "state": {},
    "version_major": 2,
    "version_minor": 0
   }
  }
 },
 "nbformat": 4,
 "nbformat_minor": 5
}
